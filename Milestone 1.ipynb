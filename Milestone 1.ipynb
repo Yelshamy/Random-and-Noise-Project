{
 "cells": [
  {
   "cell_type": "code",
   "execution_count": null,
   "id": "4a6a8c05",
   "metadata": {
    "scrolled": true
   },
   "outputs": [],
   "source": [
    "import pandas as pd\n",
    "import numpy as np\n",
    "import matplotlib.pyplot as plt\n",
    "import seaborn as sns"
   ]
  },
  {
   "cell_type": "code",
   "execution_count": null,
   "id": "e9977c13",
   "metadata": {},
   "outputs": [],
   "source": [
    "df = pd.read_csv('Train_data.csv')"
   ]
  },
  {
   "cell_type": "code",
   "execution_count": null,
   "id": "adde46cc",
   "metadata": {},
   "outputs": [],
   "source": [
    "missing_data = df.isnull().sum()\n",
    "inf_data = df.applymap(np.isinf)"
   ]
  },
  {
   "cell_type": "code",
   "execution_count": null,
   "id": "54fb1aa1",
   "metadata": {},
   "outputs": [],
   "source": [
    "unique_categories = df.nunique()\n",
    "print(unique_categories)"
   ]
  },
  {
   "cell_type": "code",
   "execution_count": null,
   "id": "04583a10",
   "metadata": {},
   "outputs": [],
   "source": [
    "df.describe()"
   ]
  },
  {
   "cell_type": "code",
   "execution_count": null,
   "id": "2d5299cb",
   "metadata": {},
   "outputs": [],
   "source": [
    "def plot_pmf(column):\n",
    "    pmf = df[column].value_counts(normalize=True)\n",
    "    \n",
    "    plt.figure(figsize=(8, 5))\n",
    "    plt.bar(pmf.index, pmf.values, color='skyblue')\n",
    "    plt.title(f'PMF of {column}')\n",
    "    plt.ylabel('Probability')\n",
    "    plt.xlabel('Categories')\n",
    "    plt.xticks(rotation=45)\n",
    "    plt.show()\n",
    "    \n",
    "for column in df.select_dtypes(include=['object', 'category', 'int64']).columns:\n",
    "    plot_pmf(column)    \n",
    "    "
   ]
  },
  {
   "cell_type": "code",
   "execution_count": null,
   "id": "8fb50a68",
   "metadata": {},
   "outputs": [],
   "source": [
    "def plot_pdf(column):\n",
    "    data = df[column].dropna()\n",
    "    \n",
    "    plt.figure(figsize=(8, 5))\n",
    "    plt.hist(data, bins=30, density=True, color='skyblue', alpha=0.6)  # Histogram\n",
    "    plt.title(f'PDF of {column}')\n",
    "    plt.ylabel('Density')\n",
    "    plt.xlabel('Values')\n",
    "    plt.show()\n",
    "\n",
    "for column in df.select_dtypes(include=['float64', 'int64']).columns:\n",
    "    plot_pdf(column)"
   ]
  },
  {
   "cell_type": "code",
   "execution_count": null,
   "id": "96c08cd1",
   "metadata": {},
   "outputs": [],
   "source": [
    "#CDF for discrete\n",
    "def plot_cdf_from_pmf(pmf, column):\n",
    "    cdf = pmf.cumsum()\n",
    "    \n",
    "    plt.figure(figsize=(8, 5))\n",
    "    plt.plot(cdf.index, cdf.values, marker='o', linestyle='-', color='skyblue')\n",
    "    plt.title(f'CDF of {column}')\n",
    "    plt.ylabel('Cumulative Probability')\n",
    "    plt.xlabel('Categories')\n",
    "    plt.xticks(rotation=45)\n",
    "    plt.grid(True)\n",
    "    plt.show()\n",
    "\n",
    "\n",
    "pmf_column = df[column].value_counts(normalize=True).sort_index()\n",
    "plot_cdf_from_pmf(pmf_column, 'your_discrete_column')"
   ]
  },
  {
   "cell_type": "code",
   "execution_count": null,
   "id": "593b34c3",
   "metadata": {},
   "outputs": [],
   "source": [
    "#CDF for continous data\n",
    "\n",
    "def plot_cdf_from_pdf(column):\n",
    "    data = df[column].dropna()     # Removing the NaN values and sorting the data\n",
    "    sorted_data = np.sort(data)\n",
    "    \n",
    "    cdf = np.arange(1, len(sorted_data) + 1) / len(sorted_data)\n",
    "    \n",
    "    plt.figure(figsize=(8, 5))\n",
    "    plt.plot(sorted_data, cdf, marker='.', linestyle='-', color='skyblue')\n",
    "    plt.title(f'CDF of {column}')\n",
    "    plt.ylabel('Cumulative Probability')\n",
    "    plt.xlabel('Values')\n",
    "    plt.grid(True)\n",
    "    plt.show()\n",
    "    \n",
    "plot_cdf_from_pdf(column)"
   ]
  },
  {
   "cell_type": "code",
   "execution_count": null,
   "id": "f673d292",
   "metadata": {},
   "outputs": [],
   "source": [
    "#plot original and conditional PMF for discrete data\n",
    "def plot_pmf_given_class_discrete(column, class_column):\n",
    "    \n",
    "    \n",
    "    pmf_original = df[column].value_counts(normalize=True).sort_index()    #Calculate original PMF for the entire dataset\n",
    "\n",
    "    # Calculate conditional PMF for the class \"normal\"\n",
    "    pmf_normal = df[df[class_column] == 'normal'][column].value_counts(normalize=True).sort_index()\n",
    "\n",
    "    #Calculate conditional PMF for the class \"anomaly\"\n",
    "    pmf_anomaly = df[df[class_column] == 'anomaly'][column].value_counts(normalize=True).sort_index()\n",
    "    \n",
    "    #Plot PMF for the entire dataset\n",
    "    plt.figure(figsize=(10, 6))\n",
    "    pmf_original.plot(kind='bar', color='blue', alpha=0.6, label='Original PMF', width=0.4, position=1)\n",
    "\n",
    "    #Plot conditional PMF for \"normal\"\n",
    "    pmf_normal.plot(kind='bar', color='green', alpha=0.6, label='PMF (Normal)', width=0.4, position=0)\n",
    "\n",
    "    #Plot conditional PMF for \"anomaly\"\n",
    "    pmf_anomaly.plot(kind='bar', color='red', alpha=0.6, label='PMF (Anomaly)', width=0.4, position=2)\n",
    "\n",
    "    plt.title(f'PMF of {column} Given Class')\n",
    "    plt.xlabel('Categories')\n",
    "    plt.ylabel('Probability')\n",
    "    plt.legend()\n",
    "    plt.xticks(rotation=45)\n",
    "    plt.grid(True)\n",
    "    plt.show()\n",
    "\n",
    "plot_pmf_given_class_discrete(column, 'class')\n"
   ]
  },
  {
   "cell_type": "code",
   "execution_count": null,
   "id": "9aa582ca",
   "metadata": {},
   "outputs": [],
   "source": [
    "#plot original and conditional PDF for continuous data\n",
    "import seaborn as sns\n",
    "\n",
    "def plot_pdf_given_class_continuous(column, class_column):\n",
    "    # Remove NaN values\n",
    "    data = df[column].dropna()\n",
    "\n",
    "    #Plot original PDF using histogram for the entire dataset\n",
    "    plt.figure(figsize=(10, 6))\n",
    "    sns.histplot(data, bins=30, color='blue', kde=True, stat=\"density\", label='Original PDF', alpha=0.6)\n",
    "\n",
    "    #Plot conditional PDF for the class \"normal\"\n",
    "    data_normal = df[df[class_column] == 'normal'][column].dropna()\n",
    "    sns.histplot(data_normal, bins=30, color='green', kde=True, stat=\"density\", label='PDF (Normal)', alpha=0.6)\n",
    "\n",
    "    #Plot conditional PDF for the class \"anomaly\"\n",
    "    data_anomaly = df[df[class_column] == 'anomaly'][column].dropna()\n",
    "    sns.histplot(data_anomaly, bins=30, color='red', kde=True, stat=\"density\", label='PDF (Anomaly)', alpha=0.6)\n",
    "\n",
    "    plt.title(f'PDF of {column} Given Class')\n",
    "    plt.xlabel('Values')\n",
    "    plt.ylabel('Density')\n",
    "    plt.legend()\n",
    "    plt.grid(True)\n",
    "    plt.show()\n",
    "\n",
    "plot_pdf_given_class_continuous(column, 'class')\n"
   ]
  },
  {
   "cell_type": "code",
   "execution_count": null,
   "id": "1574ad69",
   "metadata": {
    "scrolled": true
   },
   "outputs": [],
   "source": [
    "def scatter_plot(x_column, y_column):\n",
    "    plt.figure(figsize=(16, 14))\n",
    "    plt.scatter(df[x_column], df[y_column], color='blue', alpha=0.6)\n",
    "    plt.title(f'Scatter Plot between {x_column} and {y_column}')\n",
    "    plt.xlabel(x_column)\n",
    "    plt.ylabel(y_column)\n",
    "    plt.grid(True)\n",
    "    plt.show()\n",
    "    \n",
    "scatter_plot('dst_host_serror_rate', 'dst_host_srv_serror_rate')    "
   ]
  },
  {
   "cell_type": "code",
   "execution_count": null,
   "id": "3233e24c",
   "metadata": {},
   "outputs": [],
   "source": [
    "def joint_pmf_discrete(field1, field2):\n",
    "    #Create a contingency table showing joint frequencies\n",
    "    joint_freq = pd.crosstab(df[field1], df[field2])\n",
    "    \n",
    "    #Normalize the contingency table to get the joint PMF (joint probabilities)\n",
    "    joint_pmf = joint_freq / joint_freq.sum().sum()\n",
    "\n",
    "    print(f'Joint PMF between {field1} and {field2}:')\n",
    "    print(joint_pmf)\n",
    "    \n",
    "    #Plot the joint PMF as a heatmap\n",
    "    plt.figure(figsize=(8, 6))\n",
    "    sns.heatmap(joint_pmf, annot=True, cmap='Blues', cbar=True)\n",
    "    plt.title(f'Joint PMF of {field1} and {field2}')\n",
    "    plt.xlabel(field2)\n",
    "    plt.ylabel(field1)\n",
    "    plt.show()\n",
    "\n",
    "joint_pmf_discrete('count', 'srv_count')"
   ]
  },
  {
   "cell_type": "code",
   "execution_count": null,
   "id": "0714fbfc",
   "metadata": {},
   "outputs": [],
   "source": [
    "def joint_pdf_conditioned_continuous(field1, field2, class_column, class_value):\n",
    "    plt.figure(figsize=(12, 5))\n",
    "    \n",
    "    #Plot the unconditioned joint PDF (KDE or 2D Histogram)\n",
    "    plt.subplot(1, 2, 1)\n",
    "    sns.kdeplot(x=df[field1], y=df[field2], cmap=\"Blues\", fill=True, thresh=0.05)\n",
    "    plt.title(f'Joint PDF of {field1} and {field2} (Unconditioned)')\n",
    "    plt.xlabel(field1)\n",
    "    plt.ylabel(field2)\n",
    "    \n",
    "    #Filter the data to include only the rows where the class matches\n",
    "    df_conditioned = df[df[class_column] == class_value]\n",
    "    \n",
    "    #Plot the conditioned joint PDF\n",
    "    plt.subplot(1, 2, 2)\n",
    "    sns.kdeplot(x=df_conditioned[field1], y=df_conditioned[field2], cmap=\"Reds\", fill=True, thresh=0.05)\n",
    "    plt.title(f'Joint PDF of {field1} and {field2} conditioned on {class_value}')\n",
    "    plt.xlabel(field1)\n",
    "    plt.ylabel(field2)\n",
    "\n",
    "    plt.show()\n",
    "\n",
    "joint_pdf_conditioned_continuous('same_srv_rate', 'diff_srv_rate', 'class', 'anomaly')"
   ]
  },
  {
   "cell_type": "code",
   "execution_count": null,
   "id": "85971f99",
   "metadata": {},
   "outputs": [],
   "source": [
    "correlation_matrix = df.corr()\n",
    "\n",
    "print(correlation_matrix)\n",
    "\n",
    "\n",
    "plt.figure(figsize=(10, 8))\n",
    "sns.heatmap(correlation_matrix, annot=True, cmap='coolwarm', center=0)\n",
    "plt.title('Correlation Matrix')\n",
    "plt.show()"
   ]
  },
  {
   "cell_type": "code",
   "execution_count": null,
   "id": "bd73de51",
   "metadata": {},
   "outputs": [],
   "source": [
    "field1 = 'field1'\n",
    "field2 = 'field2'\n",
    "\n",
    "# Calculate the  correlation between the two fields\n",
    "correlation = df[[field1, field2]].corr().iloc[0, 1]\n",
    "print(f'Pearson Correlation between {field1} and {field2}: {correlation}')\n",
    "\n",
    "# Plot a scatter plot with a regression line to visualize the relationship\n",
    "sns.jointplot(x=field1, y=field2, data=df, kind='reg', height=6)\n",
    "plt.show()"
   ]
  },
  {
   "cell_type": "code",
   "execution_count": null,
   "id": "d90930c4",
   "metadata": {},
   "outputs": [],
   "source": [
    "from scipy.stats import chi2_contingency\n",
    "\n",
    "def chi_squared_test(field, class_column):\n",
    "\n",
    "    contingency_table = pd.crosstab(df[field], df[class_column])\n",
    "    \n",
    "\n",
    "    chi2, p, _, _ = chi2_contingency(contingency_table)\n",
    "    \n",
    "    return p\n",
    "\n",
    "\n",
    "p_value = chi_squared_test(column, 'class')\n",
    "print(f'P-value for Chi-squared test between field_name and attack type: {p_value}')\n",
    "\n",
    "\n",
    "alpha = 0.05\n",
    "if p_value < alpha:\n",
    "    print(\"Reject the null hypothesis: There is a dependency between the field and the attack type.\")\n",
    "else:\n",
    "    print(\"Fail to reject the null hypothesis: There is no dependency between the field and the attack type.\")"
   ]
  },
  {
   "cell_type": "code",
   "execution_count": null,
   "id": "058c0701",
   "metadata": {},
   "outputs": [],
   "source": [
    "# Map 'anomaly' to 1 and 'normal' to 0\n",
    "df['attack_type_numeric'] = df['class'].map({'normal': 0, 'anomaly': 1})\n",
    "\n",
    "# Calculate the correlation with the class variable\n",
    "correlation_with_attack_type = df.corr()['attack_type_numeric'].drop('attack_type_numeric')\n",
    "print(correlation_with_attack_type)\n",
    "\n",
    "#visualize the correlations\n",
    "plt.figure(figsize=(10, 6))\n",
    "correlation_with_attack_type.plot(kind='bar', color='skyblue')\n",
    "plt.title('Correlation with Attack Type')\n",
    "plt.ylabel('Correlation Coefficient')\n",
    "plt.xlabel('Fields')\n",
    "plt.axhline(0, color='gray', linewidth=0.8, linestyle='--')\n",
    "plt.show()\n"
   ]
  },
  {
   "cell_type": "code",
   "execution_count": null,
   "id": "2ff7a30d",
   "metadata": {},
   "outputs": [],
   "source": []
  }
 ],
 "metadata": {
  "kernelspec": {
   "display_name": "Python 3 (ipykernel)",
   "language": "python",
   "name": "python3"
  },
  "language_info": {
   "codemirror_mode": {
    "name": "ipython",
    "version": 3
   },
   "file_extension": ".py",
   "mimetype": "text/x-python",
   "name": "python",
   "nbconvert_exporter": "python",
   "pygments_lexer": "ipython3",
   "version": "3.9.13"
  }
 },
 "nbformat": 4,
 "nbformat_minor": 5
}
